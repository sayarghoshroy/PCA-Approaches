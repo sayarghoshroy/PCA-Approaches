{
  "nbformat": 4,
  "nbformat_minor": 0,
  "metadata": {
    "colab": {
      "name": "PCA_straight_line.ipynb",
      "provenance": [],
      "collapsed_sections": [],
      "authorship_tag": "ABX9TyN/gwgTzVzdDeapsI4ywd1T",
      "include_colab_link": true
    },
    "kernelspec": {
      "name": "python3",
      "display_name": "Python 3"
    }
  },
  "cells": [
    {
      "cell_type": "markdown",
      "metadata": {
        "id": "view-in-github",
        "colab_type": "text"
      },
      "source": [
        "<a href=\"https://colab.research.google.com/github/sayarghoshroy/PCA-Approaches/blob/master/PCA_straight_line.ipynb\" target=\"_parent\"><img src=\"https://colab.research.google.com/assets/colab-badge.svg\" alt=\"Open In Colab\"/></a>"
      ]
    },
    {
      "cell_type": "code",
      "metadata": {
        "id": "M7ispOMUnZIX",
        "colab_type": "code",
        "colab": {}
      },
      "source": [
        "import numpy as np\n",
        "import matplotlib.pyplot as plt"
      ],
      "execution_count": 0,
      "outputs": []
    },
    {
      "cell_type": "code",
      "metadata": {
        "id": "oMcmzCdxndTy",
        "colab_type": "code",
        "colab": {}
      },
      "source": [
        "points = []\n",
        "# Equation: y = x - 1\n",
        "\n",
        "def compute_y(x):\n",
        "    y = x - 1\n",
        "    return y\n",
        "\n",
        "for x in range(-99, 100, 2):\n",
        "    points.append([x, compute_y(x)])\n",
        "points = np.asarray(points)\n",
        "\n",
        "mean = np.mean(points, axis = 0)"
      ],
      "execution_count": 0,
      "outputs": []
    },
    {
      "cell_type": "code",
      "metadata": {
        "id": "hczittLsn48w",
        "colab_type": "code",
        "colab": {}
      },
      "source": [
        "covariance_matrix = np.cov(points.T)\n",
        "eigen_values, eigen_vectors = np.linalg.eig(covariance_matrix)"
      ],
      "execution_count": 0,
      "outputs": []
    },
    {
      "cell_type": "code",
      "metadata": {
        "id": "X7mdjB7-oBDD",
        "colab_type": "code",
        "outputId": "51dfb081-b2bc-4d24-e950-93a474a4f63b",
        "colab": {
          "base_uri": "https://localhost:8080/",
          "height": 88
        }
      },
      "source": [
        "print(\"Principal Eigen Value:\", eigen_values[0])\n",
        "print(\"Principal Eigen Vector:\", eigen_vectors[:, 0])\n",
        "\n",
        "print(\"Secondary Eigen Value:\", eigen_values[1])\n",
        "print(\"Secondary Eigen Vector:\", eigen_vectors[:, 1])"
      ],
      "execution_count": 4,
      "outputs": [
        {
          "output_type": "stream",
          "text": [
            "Principal Eigen Value: 6733.333333333334\n",
            "Principal Eigen Vector: [0.70710678 0.70710678]\n",
            "Secondary Eigen Value: 4.547473508864641e-13\n",
            "Secondary Eigen Vector: [-0.70710678  0.70710678]\n"
          ],
          "name": "stdout"
        }
      ]
    },
    {
      "cell_type": "code",
      "metadata": {
        "id": "AQbIgclHoic8",
        "colab_type": "code",
        "outputId": "05e8b1d6-d159-44a2-89c1-7d0901912b17",
        "colab": {
          "base_uri": "https://localhost:8080/",
          "height": 639
        }
      },
      "source": [
        "plt.figure(figsize=(10, 10))\n",
        "fig = plt.subplot(111)\n",
        "fig.set_title(\"PCA on Linear Data\")\n",
        "fig.set_xlabel(\"x\")\n",
        "fig.set_ylabel(\"y\")\n",
        "\n",
        "scale = 50\n",
        "\n",
        "fig.scatter(points[:, 0], points[:, 1], color = 'cyan')\n",
        "fig.arrow(mean[0], mean[1], eigen_vectors[:, 0][0] * scale, eigen_vectors[:, 0][1] * scale, color = 'purple', head_width = 0.05 * scale, head_length = 0.1 * scale, label = 'Principal Eigenvector')\n",
        "fig.arrow(mean[0], mean[1], eigen_vectors[:, 1][0] * scale, eigen_vectors[:, 1][1] * scale, color = 'green', head_width = 0.05 * scale, head_length = 0.1 * scale, label = 'Secondary Eigenvector')\n",
        "fig.legend()\n",
        "plt.show()"
      ],
      "execution_count": 5,
      "outputs": [
        {
          "output_type": "stream",
          "text": [
            "No handles with labels found to put in legend.\n"
          ],
          "name": "stderr"
        },
        {
          "output_type": "display_data",
          "data": {
            "image/png": "[encoded data removed]",
            "text/plain": [
              "<Figure size 720x720 with 1 Axes>"
            ]
          },
          "metadata": {
            "tags": [],
            "needs_background": "light"
          }
        }
      ]
    },
    {
      "cell_type": "code",
      "metadata": {
        "id": "WRmh6TiXr4-g",
        "colab_type": "code",
        "colab": {}
      },
      "source": [
        "# ^_^ Thank You"
      ],
      "execution_count": 0,
      "outputs": []
    }
  ]
}