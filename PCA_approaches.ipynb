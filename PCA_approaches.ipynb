{
  "nbformat": 4,
  "nbformat_minor": 0,
  "metadata": {
    "kernelspec": {
      "display_name": "Python 3",
      "language": "python",
      "name": "python3"
    },
    "language_info": {
      "codemirror_mode": {
        "name": "ipython",
        "version": 3
      },
      "file_extension": ".py",
      "mimetype": "text/x-python",
      "name": "python",
      "nbconvert_exporter": "python",
      "pygments_lexer": "ipython3",
      "version": "3.7.3"
    },
    "colab": {
      "name": "PCA_approaches.ipynb",
      "provenance": [],
      "collapsed_sections": [],
      "include_colab_link": true
    }
  },
  "cells": [
    {
      "cell_type": "markdown",
      "metadata": {
        "id": "view-in-github",
        "colab_type": "text"
      },
      "source": [
        "<a href=\"https://colab.research.google.com/github/sayarghoshroy/PCA-Approaches/blob/master/PCA_approaches.ipynb\" target=\"_parent\"><img src=\"https://colab.research.google.com/assets/colab-badge.svg\" alt=\"Open In Colab\"/></a>"
      ]
    },
    {
      "cell_type": "code",
      "metadata": {
        "id": "xQ3y4vIJGSez",
        "colab_type": "code",
        "colab": {}
      },
      "source": [
        "# Demonstrating various approaches to Principal Component Analysis"
      ],
      "execution_count": 0,
      "outputs": []
    },
    {
      "cell_type": "code",
      "metadata": {
        "id": "F3twhWr4GSfD",
        "colab_type": "code",
        "colab": {}
      },
      "source": [
        "import numpy as np\n",
        "import matplotlib.pyplot as plt"
      ],
      "execution_count": 0,
      "outputs": []
    },
    {
      "cell_type": "code",
      "metadata": {
        "id": "f9vw6WO4GSfO",
        "colab_type": "code",
        "colab": {}
      },
      "source": [
        "# Add files 'mnist_train.csv' and 'mnist_test.csv' to your working directory\n",
        "train_data = np.genfromtxt('mnist_train.csv', delimiter=',')\n",
        "train_data = train_data[:, 1:]\n",
        "train_data /= 255\n",
        "mean = np.mean(train_data, axis = 0)\n",
        "train_data = train_data - mean\n",
        "# normalizing the data"
      ],
      "execution_count": 0,
      "outputs": []
    },
    {
      "cell_type": "code",
      "metadata": {
        "id": "45y6lFskGSfY",
        "colab_type": "code",
        "colab": {},
        "outputId": "ec35371a-d5bc-43e6-c722-0f62e38d7abc"
      },
      "source": [
        "print(train_data.shape)"
      ],
      "execution_count": 0,
      "outputs": [
        {
          "output_type": "stream",
          "text": [
            "(60000, 784)\n"
          ],
          "name": "stdout"
        }
      ]
    },
    {
      "cell_type": "code",
      "metadata": {
        "id": "_nqqalU1GSfj",
        "colab_type": "code",
        "colab": {}
      },
      "source": [
        "cov_mat = np.cov(train_data.T)"
      ],
      "execution_count": 0,
      "outputs": []
    },
    {
      "cell_type": "code",
      "metadata": {
        "id": "_cFEyZO_GSfs",
        "colab_type": "code",
        "colab": {},
        "outputId": "ad47ddae-e6f1-42a5-90c7-8405f3565d52"
      },
      "source": [
        "print(\"Shape of Covariance Matrix :\", cov_mat.shape)\n",
        "# Shape of Covariance Matrix is (784, 784)"
      ],
      "execution_count": 0,
      "outputs": [
        {
          "output_type": "stream",
          "text": [
            "Shape of Covariance Matrix : (784, 784)\n"
          ],
          "name": "stdout"
        }
      ]
    },
    {
      "cell_type": "code",
      "metadata": {
        "id": "u8P5Hr4ZGSfz",
        "colab_type": "code",
        "colab": {}
      },
      "source": [
        "eigvals, eigvecs = np.linalg.eig(cov_mat)"
      ],
      "execution_count": 0,
      "outputs": []
    },
    {
      "cell_type": "code",
      "metadata": {
        "id": "MMCYIO0lGSf4",
        "colab_type": "code",
        "colab": {}
      },
      "source": [
        "idx = np.flip(eigvals.argsort())"
      ],
      "execution_count": 0,
      "outputs": []
    },
    {
      "cell_type": "code",
      "metadata": {
        "id": "sE1ioihKGSgE",
        "colab_type": "code",
        "colab": {}
      },
      "source": [
        "x = np.matmul(train_data, eigvecs[:, 0]).real\n",
        "y = np.matmul(train_data, eigvecs[:, 1]).real"
      ],
      "execution_count": 0,
      "outputs": []
    },
    {
      "cell_type": "code",
      "metadata": {
        "id": "xBx6gTz2GSgL",
        "colab_type": "code",
        "colab": {},
        "outputId": "3319f39b-e2d8-469a-c190-596138ccb94f"
      },
      "source": [
        "print(\"Shape of x & y vectors :\")\n",
        "print(x.shape)\n",
        "print(y.shape)\n",
        "# Shape of x & y vectors: (60000, )"
      ],
      "execution_count": 0,
      "outputs": [
        {
          "output_type": "stream",
          "text": [
            "Shape of x & y vectors :\n",
            "(60000,)\n",
            "(60000,)\n"
          ],
          "name": "stdout"
        }
      ]
    },
    {
      "cell_type": "code",
      "metadata": {
        "id": "KY2-NPwcGSgU",
        "colab_type": "code",
        "colab": {},
        "outputId": "e01b5ef5-97d9-4b9f-9561-ce65a7b6c591"
      },
      "source": [
        "plt.figure()\n",
        "plt.title(\"PCA using Covariance Matrix\")\n",
        "plt.xlabel('x')\n",
        "plt.ylabel('y')\n",
        "plt.scatter(x, y, color = 'green', marker = 'x')\n",
        "plt.show()"
      ],
      "execution_count": 0,
      "outputs": [
        {
          "output_type": "display_data",
          "data": {
            "image/png": "[encoded data removed]",
            "text/plain": [
              "<Figure size 432x288 with 1 Axes>"
            ]
          },
          "metadata": {
            "tags": [],
            "needs_background": "light"
          }
        }
      ]
    },
    {
      "cell_type": "code",
      "metadata": {
        "id": "rqM7RjTpGSgd",
        "colab_type": "code",
        "colab": {},
        "outputId": "f7708e23-87e6-466c-d212-74496015f39f"
      },
      "source": [
        "# Computing the reconstruction losses using closed form for PCA using covariance matrix\n",
        "print(\"PCA using covariance matrix\")\n",
        "\n",
        "scores_covmat = np.zeros(shape = (60000, 2))\n",
        "scores_covmat[:, 0] = x\n",
        "scores_covmat[:, 1] = y\n",
        "\n",
        "vecs_T_covmat = np.zeros(shape = (2, 784))\n",
        "vecs_T_covmat[0, :] = eigvecs[:, 0]\n",
        "vecs_T_covmat[1, :] = eigvecs[:, 1]\n",
        "\n",
        "reconstructed_train_covmat = np.matmul(scores_covmat, vecs_T_covmat)\n",
        "\n",
        "loss_covmat = 0\n",
        "for iter in range(60000):\n",
        "    temp_vec = reconstructed_train_covmat[iter, :] - train_data[iter, :]\n",
        "    loss_covmat += np.dot(temp_vec, temp_vec)\n",
        "loss_covmat /= 60000\n",
        "    \n",
        "print(\"Reconstruction Loss Using covariance matrix based PCA :\", loss_covmat)\n",
        "print(\"Loss based on Matrix Norms\", np.linalg.norm(reconstructed_train_covmat - train_data))"
      ],
      "execution_count": 0,
      "outputs": [
        {
          "output_type": "stream",
          "text": [
            "PCA using covariance matrix\n",
            "Reconstruction Loss Using covariance matrix based PCA : 43.8669192879197\n",
            "Loss based on Matrix Norms 1622.348654659396\n"
          ],
          "name": "stdout"
        }
      ]
    },
    {
      "cell_type": "code",
      "metadata": {
        "id": "7TfmFO26GSgk",
        "colab_type": "code",
        "colab": {}
      },
      "source": [
        "learn_rate = 0.1\n",
        "\n",
        "def check_convergence(old_v, v):\n",
        "    return False\n",
        "    distance = np.linalg.norm(old_v - v)\n",
        "    # we have reached convergence if the distance is close to 2\n",
        "    # that signifies oscillation between values of v which are equal in magnitude\n",
        "    # but exactly opposite in direction\n",
        "    if np.abs(distance - 2.0) < 0.000001:\n",
        "        return True\n",
        "    return False\n",
        "\n",
        "v_init = np.ones(784) / np.linalg.norm(np.ones(784))"
      ],
      "execution_count": 0,
      "outputs": []
    },
    {
      "cell_type": "code",
      "metadata": {
        "id": "Tp9_Mu-KGSgq",
        "colab_type": "code",
        "colab": {},
        "outputId": "bd4a54f9-6ede-4f55-ffd7-6f16c0b21144"
      },
      "source": [
        "# Computing PCA Component 1 using gradient descent\n",
        "print(\"PCA using Gradient Descent\")\n",
        "\n",
        "iter_count = 0\n",
        "\n",
        "v1_old = v_init\n",
        "v1 = v1_old\n",
        "multiplier = np.matmul(train_data.T, train_data)\n",
        "while iter_count < 10001:\n",
        "    iter_count += 1\n",
        "    v1 = v1 - learn_rate * np.matmul(multiplier, v1_old)\n",
        "    v1 = v1 / np.linalg.norm(v1)\n",
        "    if(check_convergence(v1_old, v1)):\n",
        "        print(\"Converged in\", iter_count, \"steps.\")\n",
        "        break\n",
        "    v1_old = v1"
      ],
      "execution_count": 0,
      "outputs": [
        {
          "output_type": "stream",
          "text": [
            "PCA using Gradient Descent\n"
          ],
          "name": "stdout"
        }
      ]
    },
    {
      "cell_type": "code",
      "metadata": {
        "id": "fkam9Ce5GSgx",
        "colab_type": "code",
        "colab": {},
        "outputId": "37723ba6-5f25-4b96-d7e9-13ac424366f5"
      },
      "source": [
        "# Checking if PCA components from Covariance Matrix method and Gradient Descent actually tally\n",
        "print(\"Checking covariance matrix and gradient descent based updates for vector 1\")\n",
        "print(\"Distance metric:\", np.linalg.norm(eigvecs[:, 0] -  v1))\n",
        "c = np.dot(eigvecs[:, 0], v1) / (np.linalg.norm(eigvecs[:, 0]) * np.linalg.norm(v1))\n",
        "angle = np.arccos(np.clip(c, -1, 1))\n",
        "print(\"Angle metric:\", angle)"
      ],
      "execution_count": 0,
      "outputs": [
        {
          "output_type": "stream",
          "text": [
            "Checking covariance matrix and gradient descent based updates for vector 1\n",
            "Distance metric: 1.5818076976253452e-15\n",
            "Angle metric: 0.0\n"
          ],
          "name": "stdout"
        }
      ]
    },
    {
      "cell_type": "code",
      "metadata": {
        "id": "BFlQb-k3GSg2",
        "colab_type": "code",
        "colab": {}
      },
      "source": [
        "# The 1st PCA components tally with each other. They represent the same line."
      ],
      "execution_count": 0,
      "outputs": []
    },
    {
      "cell_type": "code",
      "metadata": {
        "id": "9SdZsaLaGSg7",
        "colab_type": "code",
        "colab": {}
      },
      "source": [
        "# Computing PCA component 2 using gradient descent\n",
        "\n",
        "iter_count = 0\n",
        "\n",
        "v2_old = np.asmatrix(v_init).T\n",
        "v2 = v2_old\n",
        "mult = train_data.T - np.matmul(np.matmul(np.asmatrix(v1).T, np.asmatrix(v1)), train_data.T)\n",
        "multiplier = np.matmul(mult, mult.T)"
      ],
      "execution_count": 0,
      "outputs": []
    },
    {
      "cell_type": "code",
      "metadata": {
        "id": "1BchBaflGShA",
        "colab_type": "code",
        "colab": {}
      },
      "source": [
        "while iter_count < 10001:\n",
        "    iter_count += 1\n",
        "    v2 = v2 - learn_rate * np.matmul(multiplier, v2_old)\n",
        "    v2 = v2 / np.linalg.norm(v2)\n",
        "    if(check_convergence(v2_old, v2)):\n",
        "        print(\"Converged in\", iter_count, \"steps.\")\n",
        "        break\n",
        "    v2_old = v2\n",
        "\n",
        "v2 = (np.ndarray.flatten(np.array(v2)))"
      ],
      "execution_count": 0,
      "outputs": []
    },
    {
      "cell_type": "code",
      "metadata": {
        "id": "UWOdXM1CGShF",
        "colab_type": "code",
        "colab": {},
        "outputId": "0a75eb42-3ea3-4fa8-8740-884d92114de3"
      },
      "source": [
        "# Checking if PCA components from Covariance Matrix method and Gradient Descent actually tally\n",
        "print(\"Checking covariance matrix and gradient descent based updates for vector 2\")\n",
        "print(\"Distance metric:\", np.linalg.norm(eigvecs[:, 1] -  v2))\n",
        "c = np.dot(eigvecs[:, 1], v2.T) / (np.linalg.norm(eigvecs[:, 1]) * np.linalg.norm(v2))\n",
        "angle = np.arccos(np.clip(c, -1, 1))\n",
        "print(\"Angle metric:\", angle)"
      ],
      "execution_count": 0,
      "outputs": [
        {
          "output_type": "stream",
          "text": [
            "Checking covariance matrix and gradient descent based updates for vector 2\n",
            "Distance metric: 1.1784038194011273e-15\n",
            "Angle metric: 0.0\n"
          ],
          "name": "stdout"
        }
      ]
    },
    {
      "cell_type": "code",
      "metadata": {
        "id": "qYYvOEvuGShL",
        "colab_type": "code",
        "colab": {}
      },
      "source": [
        "x_iter = np.matmul(train_data, v1.T).real\n",
        "y_iter = np.matmul(train_data, v2.T).real"
      ],
      "execution_count": 0,
      "outputs": []
    },
    {
      "cell_type": "code",
      "metadata": {
        "id": "Isz0Ic_6GShQ",
        "colab_type": "code",
        "colab": {},
        "outputId": "84a18466-eeab-4a40-a515-048f666bdc5a"
      },
      "source": [
        "plt.figure()\n",
        "plt.title(\"PCA using Gradient Descent\")\n",
        "plt.xlabel('x')\n",
        "plt.ylabel('y')\n",
        "plt.scatter(x_iter, y_iter, color = 'blue', marker = 'x')\n",
        "plt.show()"
      ],
      "execution_count": 0,
      "outputs": [
        {
          "output_type": "display_data",
          "data": {
            "image/png": "[encoded data removed]",
            "text/plain": [
              "<Figure size 432x288 with 1 Axes>"
            ]
          },
          "metadata": {
            "tags": [],
            "needs_background": "light"
          }
        }
      ]
    },
    {
      "cell_type": "code",
      "metadata": {
        "id": "M04XhwsUGShX",
        "colab_type": "code",
        "colab": {},
        "outputId": "3f97bd98-6319-49e3-8381-35375de7d14f"
      },
      "source": [
        "# Computing the reconstruction losses for PCA with gradient descent \n",
        "scores = np.zeros(shape = (60000, 2))\n",
        "scores[:, 0] = x\n",
        "scores[:, 1] = y\n",
        "\n",
        "vecs_T = np.zeros(shape = (2, 784))\n",
        "vecs_T[0, :] = v1\n",
        "vecs_T[1, :] = v2\n",
        "\n",
        "reconstructed_train = np.matmul(scores, vecs_T)\n",
        "\n",
        "loss = 0\n",
        "for iter in range(60000):\n",
        "    temp_vec = reconstructed_train[iter, :] - train_data[iter, :]\n",
        "    loss += np.dot(temp_vec, temp_vec)\n",
        "loss /= 60000\n",
        "    \n",
        "print(\"Reconstruction Loss Using Gradient Descent for PCA :\", loss)\n",
        "print(\"Loss based on Matrix Norms\", np.linalg.norm(reconstructed_train - train_data))"
      ],
      "execution_count": 0,
      "outputs": [
        {
          "output_type": "stream",
          "text": [
            "Reconstruction Loss Using Gradient Descent for PCA : 43.8669192879197\n",
            "Loss based on Matrix Norms 1622.348654659396\n"
          ],
          "name": "stdout"
        }
      ]
    },
    {
      "cell_type": "code",
      "metadata": {
        "id": "ZhFEqRaIGShd",
        "colab_type": "code",
        "colab": {},
        "outputId": "ae8176fc-9687-4e22-9dec-2ddada293e6f"
      },
      "source": [
        "# Clearly the results using Covariance Matrix and Gradient Descent are identical\n",
        "# NOTE: The flipped arrangement along the x, y is due to negative scaling\n",
        "x_iter = x_iter * (-1)\n",
        "y_iter = y_iter * (-1)\n",
        "\n",
        "plt.figure()\n",
        "plt.title(\"PCA using Gradient Descent - Reversed Scale - Same orientation as Covariance Matrix Based Approach\")\n",
        "plt.xlabel('x')\n",
        "plt.ylabel('y')\n",
        "plt.scatter(x_iter, y_iter, color = 'blue', marker = 'x')\n",
        "plt.show()"
      ],
      "execution_count": 0,
      "outputs": [
        {
          "output_type": "display_data",
          "data": {
            "image/png": "[encoded data removed]",
            "text/plain": [
              "<Figure size 432x288 with 1 Axes>"
            ]
          },
          "metadata": {
            "tags": [],
            "needs_background": "light"
          }
        }
      ]
    },
    {
      "cell_type": "code",
      "metadata": {
        "id": "dLChDnrvGShi",
        "colab_type": "code",
        "colab": {},
        "outputId": "380311b8-747e-4a95-a62b-fd193281217e"
      },
      "source": [
        "# PCA Top 2 components using L2 regularization\n",
        "# lambda_val = 20000000\n",
        "print(\"PCA using L2 normalization\")\n",
        "\n",
        "lambda_val = 1\n",
        "\n",
        "# Computing PCA Component 1 using gradient descent\n",
        "iter_count = 0\n",
        "v1_old_L2 = v_init\n",
        "v1_L2 = v1_old_L2\n",
        "multiplier = np.matmul(train_data.T, train_data)\n",
        "while iter_count < 10000:\n",
        "    iter_count += 1\n",
        "    v1_L2 = v1_L2 - learn_rate * (np.matmul(multiplier, v1_old_L2) + lambda_val * v1_old_L2)\n",
        "    v1_L2 = v1_L2 / np.linalg.norm(v1_L2)\n",
        "    if(check_convergence(v1_old_L2, v1_L2)):\n",
        "        print(\"Converged in\", iter_count, \"steps.\")\n",
        "        break\n",
        "    v1_old_L2 = v1_L2\n",
        "    \n",
        "# Computing PCA component 2 using gradient descent\n",
        "iter_count = 0\n",
        "v2_old_L2 = np.asmatrix(v_init).T\n",
        "v2_L2 = v2_old_L2\n",
        "mult = train_data.T - np.matmul(np.matmul(np.asmatrix(v1_L2).T, np.asmatrix(v1_L2)), train_data.T)\n",
        "multiplier = np.matmul(mult, mult.T)\n",
        "\n",
        "while iter_count < 10000:\n",
        "    iter_count += 1\n",
        "    v2_L2 = v2_L2 - learn_rate * (np.matmul(multiplier, v2_old_L2) + lambda_val * v2_old_L2)\n",
        "    v2_L2 = v2_L2 / np.linalg.norm(v2_L2)\n",
        "    if(check_convergence(v2_old_L2, v2_L2)):\n",
        "        print(\"Converged in\", iter_count, \"steps.\")\n",
        "        break\n",
        "    v2_old_L2 = v2_L2\n",
        "\n",
        "v2_L2 = (np.ndarray.flatten(np.array(v2_L2)))\n",
        "\n",
        "# Computing the x, y coordinates\n",
        "x_L2 = np.matmul(train_data, v1_L2.T).real\n",
        "y_L2 = np.matmul(train_data, v2_L2.T).real\n",
        "\n",
        "# Plotting the values\n",
        "plt.figure()\n",
        "plt.title(\"PCA using Gradient Descent - L2 normalization\")\n",
        "plt.xlabel('x')\n",
        "plt.ylabel('y')\n",
        "plt.scatter(x_L2, y_L2, color = 'blue', marker = 'x')\n",
        "plt.show()"
      ],
      "execution_count": 0,
      "outputs": [
        {
          "output_type": "stream",
          "text": [
            "PCA using L2 normalization\n"
          ],
          "name": "stdout"
        },
        {
          "output_type": "display_data",
          "data": {
            "image/png": "[encoded data removed]",
            "text/plain": [
              "<Figure size 432x288 with 1 Axes>"
            ]
          },
          "metadata": {
            "tags": [],
            "needs_background": "light"
          }
        }
      ]
    },
    {
      "cell_type": "code",
      "metadata": {
        "id": "dflltmyGGShn",
        "colab_type": "code",
        "colab": {},
        "outputId": "f83e8680-27dd-43c2-d4a9-373fe1fb6590"
      },
      "source": [
        "# Computing the reconstruction losses for L2 regularization\n",
        "scores_L2 = np.zeros(shape = (60000, 2))\n",
        "scores_L2[:, 0] = x_L2\n",
        "scores_L2[:, 1] = y_L2\n",
        "\n",
        "vecs_T_L2 = np.zeros(shape = (2, 784))\n",
        "vecs_T_L2[0, :] = v1_L2\n",
        "vecs_T_L2[1, :] = v2_L2\n",
        "\n",
        "reconstructed_train_L2 = np.matmul(scores_L2, vecs_T_L2)\n",
        "\n",
        "loss_L2 = 0\n",
        "for iter in range(60000):\n",
        "    temp_vec = reconstructed_train_L2[iter, :] - train_data[iter, :]\n",
        "    loss_L2 += np.dot(temp_vec, temp_vec)\n",
        "loss_L2 /= 60000\n",
        "    \n",
        "print(\"Loss Using L2 regularization :\", loss_L2)\n",
        "print(\"Loss based on Matrix Norms\", np.linalg.norm(reconstructed_train_L2 - train_data))"
      ],
      "execution_count": 0,
      "outputs": [
        {
          "output_type": "stream",
          "text": [
            "Loss Using L2 regularization : 43.866919287919714\n",
            "Loss based on Matrix Norms 1622.348654659396\n"
          ],
          "name": "stdout"
        }
      ]
    },
    {
      "cell_type": "code",
      "metadata": {
        "id": "woMmmY_qGShs",
        "colab_type": "code",
        "colab": {}
      },
      "source": [
        "def calc_pseudo_gradient(v):\n",
        "    v = np.ndarray.flatten(np.array(v))\n",
        "    gradient = np.zeros(784)\n",
        "    for iter in range(784):\n",
        "        if(v[iter] > 0):\n",
        "            gradient[iter] = 1\n",
        "        elif(v[iter] < 0):\n",
        "            gradient[iter] = -1\n",
        "            \n",
        "    return gradient"
      ],
      "execution_count": 0,
      "outputs": []
    },
    {
      "cell_type": "code",
      "metadata": {
        "id": "rvvWcigqGShx",
        "colab_type": "code",
        "colab": {},
        "outputId": "450d9d4f-dd0b-4c69-d204-56f950018e2c"
      },
      "source": [
        "# PCA Top 2 components using L1 regularization\n",
        "# lambda_val = 5000\n",
        "print(\"PCA using L1 regularization\")\n",
        "\n",
        "lambda_val = 1\n",
        "\n",
        "# Computing PCA Component 1 using gradient descent\n",
        "iter_count = 0\n",
        "v1_old_L1 = v_init\n",
        "v1_L1 = v1_old_L1\n",
        "multiplier = np.matmul(train_data.T, train_data)\n",
        "while iter_count < 10000:\n",
        "    iter_count += 1\n",
        "    v1_L1 = v1_L1 - learn_rate * (np.matmul(multiplier, v1_old_L1) \n",
        "                                  + lambda_val * calc_pseudo_gradient(v1_old_L1))\n",
        "    v1_L1 = v1_L1 / np.linalg.norm(v1_L1)\n",
        "    if(check_convergence(v1_old_L1, v1_L1)):\n",
        "        print(\"Converged in\", iter_count, \"steps.\")\n",
        "        break\n",
        "    v1_old_L1 = v1_L1\n",
        "    \n",
        "# Computing PCA component 2 using gradient descent\n",
        "iter_count = 0\n",
        "v2_old_L1 = np.asmatrix(v_init).T\n",
        "v2_L1 = v2_old_L1\n",
        "mult = train_data.T - np.matmul(np.matmul(np.asmatrix(v1_L1).T, np.asmatrix(v1_L1)), train_data.T)\n",
        "multiplier = np.matmul(mult, mult.T)\n",
        "\n",
        "while iter_count < 10000:\n",
        "    iter_count += 1\n",
        "    v2_L1 = v2_L1 - learn_rate * (np.matmul(multiplier, v2_old_L1) \n",
        "                                  + lambda_val * calc_pseudo_gradient(v2_old_L1).reshape(784, 1))\n",
        "    v2_L1 = v2_L1 / np.linalg.norm(v2_L1)\n",
        "    if(check_convergence(v2_old_L1, v2_L1)):\n",
        "        print(\"Converged in\", iter_count, \"steps.\")\n",
        "        break\n",
        "    v2_old_L1 = v2_L1\n",
        "\n",
        "v2_L1 = (np.ndarray.flatten(np.array(v2_L1)))\n",
        "\n",
        "# Computing the x, y coordinates\n",
        "x_L1 = np.matmul(train_data, v1_L1.T).real\n",
        "y_L1 = np.matmul(train_data, v2_L1.T).real\n",
        "\n",
        "# Plotting the values\n",
        "plt.figure()\n",
        "plt.title(\"PCA using Gradient Descent - L1 normalization\")\n",
        "plt.xlabel('x')\n",
        "plt.ylabel('y')\n",
        "plt.scatter(x_L1, y_L1, color = 'blue', marker = 'x')\n",
        "plt.show()"
      ],
      "execution_count": 0,
      "outputs": [
        {
          "output_type": "stream",
          "text": [
            "PCA using L1 regularization\n"
          ],
          "name": "stdout"
        },
        {
          "output_type": "display_data",
          "data": {
            "image/png": "[encoded data removed]",
            "text/plain": [
              "<Figure size 432x288 with 1 Axes>"
            ]
          },
          "metadata": {
            "tags": [],
            "needs_background": "light"
          }
        }
      ]
    },
    {
      "cell_type": "code",
      "metadata": {
        "id": "9F03omsGGSh1",
        "colab_type": "code",
        "colab": {},
        "outputId": "ca6750cf-d397-47ec-8f65-c2d6f153693d"
      },
      "source": [
        "# Computing the reconstruction losses for L1 regularization\n",
        "scores_L1 = np.zeros(shape = (60000, 2))\n",
        "scores_L1[:, 0] = x_L1\n",
        "scores_L1[:, 1] = y_L1\n",
        "\n",
        "vecs_T_L1 = np.zeros(shape = (2, 784))\n",
        "vecs_T_L1[0, :] = v1_L1\n",
        "vecs_T_L1[1, :] = v2_L1\n",
        "\n",
        "reconstructed_train_L1 = np.matmul(scores_L1, vecs_T_L1)\n",
        "\n",
        "loss_L1 = 0\n",
        "for iter in range(60000):\n",
        "    temp_vec = reconstructed_train_L1[iter, :] - train_data[iter, :]\n",
        "    loss_L1 += np.dot(temp_vec, temp_vec)\n",
        "loss_L1 /= 60000\n",
        "    \n",
        "print(\"Loss Using L1 regularization :\", loss_L1)\n",
        "print(\"Loss based on Matrix Norms\", np.linalg.norm(reconstructed_train_L1 - train_data))"
      ],
      "execution_count": 0,
      "outputs": [
        {
          "output_type": "stream",
          "text": [
            "Loss Using L1 regularization : 43.866919357283834\n",
            "Loss based on Matrix Norms 1622.3486559420471\n"
          ],
          "name": "stdout"
        }
      ]
    },
    {
      "cell_type": "code",
      "metadata": {
        "id": "lhgKIhKtGSh5",
        "colab_type": "code",
        "colab": {}
      },
      "source": [
        "# ^_^"
      ],
      "execution_count": 0,
      "outputs": []
    }
  ]
}